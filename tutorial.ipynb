{
 "cells": [
  {
   "cell_type": "markdown",
   "metadata": {},
   "source": [
    "# The `tspex` module"
   ]
  },
  {
   "cell_type": "raw",
   "metadata": {},
   "source": [
    "Brief description of the tspex module. Refer to the CLI interface."
   ]
  },
  {
   "cell_type": "markdown",
   "metadata": {},
   "source": [
    "1. [Introduction](#introduction)\n",
    "2. [The `TissueSpecificity` class](#class)\n",
    "3. [Tissue-specificity metrics](#metrics)\n",
    "4. [Example 1 (summarizing metric)](#example1)\n",
    "5. [Example 2 (partitioned metric)](#example2)\n",
    "6. [The `transform` parameter](#transform)\n",
    "7. [The `threshold` parameter of the `counts` metric](#threshold)"
   ]
  },
  {
   "cell_type": "markdown",
   "metadata": {},
   "source": [
    "## Introduction <a id=\"introduction\"></a>"
   ]
  },
  {
   "cell_type": "markdown",
   "metadata": {},
   "source": [
    "In this tutorial we are going to use data from the [Genotype-Tissue Expression (GTEx) project](https://gtexportal.org/), which provides a large catalogue of gene expression across 54 human tissues. In order to speed up the calculations and make the figures more clear, we are going to use only five tissues: Bladder, Liver, Lung, Pancreas and Stomach."
   ]
  },
  {
   "cell_type": "code",
   "execution_count": 3,
   "metadata": {},
   "outputs": [],
   "source": [
    "import tspex\n",
    "import pandas as pd\n",
    "import seaborn as sns"
   ]
  },
  {
   "cell_type": "code",
   "execution_count": 4,
   "metadata": {},
   "outputs": [],
   "source": [
    "gtex_link = 'https://storage.googleapis.com/gtex_analysis_v7/rna_seq_data/GTEx_Analysis_2016-01-15_v7_RNASeQCv1.1.8_gene_median_tpm.gct.gz'\n",
    "expression_data = pd.read_csv(gtex_link, sep='\\t', index_col='gene_id', skiprows=2)\n",
    "expression_data = expression_data.loc[:, ['Bladder', 'Liver', 'Lung', 'Pancreas', 'Stomach']]"
   ]
  },
  {
   "cell_type": "code",
   "execution_count": 5,
   "metadata": {},
   "outputs": [
    {
     "data": {
      "text/plain": [
       "(56202, 5)"
      ]
     },
     "execution_count": 5,
     "metadata": {},
     "output_type": "execute_result"
    }
   ],
   "source": [
    "expression_data.shape"
   ]
  },
  {
   "cell_type": "code",
   "execution_count": 6,
   "metadata": {},
   "outputs": [
    {
     "data": {
      "text/html": [
       "<div>\n",
       "<style scoped>\n",
       "    .dataframe tbody tr th:only-of-type {\n",
       "        vertical-align: middle;\n",
       "    }\n",
       "\n",
       "    .dataframe tbody tr th {\n",
       "        vertical-align: top;\n",
       "    }\n",
       "\n",
       "    .dataframe thead th {\n",
       "        text-align: right;\n",
       "    }\n",
       "</style>\n",
       "<table border=\"1\" class=\"dataframe\">\n",
       "  <thead>\n",
       "    <tr style=\"text-align: right;\">\n",
       "      <th></th>\n",
       "      <th>Bladder</th>\n",
       "      <th>Liver</th>\n",
       "      <th>Lung</th>\n",
       "      <th>Pancreas</th>\n",
       "      <th>Stomach</th>\n",
       "    </tr>\n",
       "    <tr>\n",
       "      <th>gene_id</th>\n",
       "      <th></th>\n",
       "      <th></th>\n",
       "      <th></th>\n",
       "      <th></th>\n",
       "      <th></th>\n",
       "    </tr>\n",
       "  </thead>\n",
       "  <tbody>\n",
       "    <tr>\n",
       "      <th>ENSG00000223972.4</th>\n",
       "      <td>0.05878</td>\n",
       "      <td>0.06259</td>\n",
       "      <td>0.06655</td>\n",
       "      <td>0.027255</td>\n",
       "      <td>0.063895</td>\n",
       "    </tr>\n",
       "    <tr>\n",
       "      <th>ENSG00000227232.4</th>\n",
       "      <td>14.24000</td>\n",
       "      <td>5.40600</td>\n",
       "      <td>13.68000</td>\n",
       "      <td>5.553000</td>\n",
       "      <td>9.342500</td>\n",
       "    </tr>\n",
       "    <tr>\n",
       "      <th>ENSG00000243485.2</th>\n",
       "      <td>0.06097</td>\n",
       "      <td>0.08316</td>\n",
       "      <td>0.06216</td>\n",
       "      <td>0.034055</td>\n",
       "      <td>0.078575</td>\n",
       "    </tr>\n",
       "    <tr>\n",
       "      <th>ENSG00000237613.2</th>\n",
       "      <td>0.04113</td>\n",
       "      <td>0.03354</td>\n",
       "      <td>0.03790</td>\n",
       "      <td>0.022915</td>\n",
       "      <td>0.043800</td>\n",
       "    </tr>\n",
       "    <tr>\n",
       "      <th>ENSG00000268020.2</th>\n",
       "      <td>0.00000</td>\n",
       "      <td>0.02959</td>\n",
       "      <td>0.00000</td>\n",
       "      <td>0.000000</td>\n",
       "      <td>0.000000</td>\n",
       "    </tr>\n",
       "  </tbody>\n",
       "</table>\n",
       "</div>"
      ],
      "text/plain": [
       "                    Bladder    Liver      Lung  Pancreas   Stomach\n",
       "gene_id                                                           \n",
       "ENSG00000223972.4   0.05878  0.06259   0.06655  0.027255  0.063895\n",
       "ENSG00000227232.4  14.24000  5.40600  13.68000  5.553000  9.342500\n",
       "ENSG00000243485.2   0.06097  0.08316   0.06216  0.034055  0.078575\n",
       "ENSG00000237613.2   0.04113  0.03354   0.03790  0.022915  0.043800\n",
       "ENSG00000268020.2   0.00000  0.02959   0.00000  0.000000  0.000000"
      ]
     },
     "execution_count": 6,
     "metadata": {},
     "output_type": "execute_result"
    }
   ],
   "source": [
    "expression_data.head()"
   ]
  },
  {
   "cell_type": "markdown",
   "metadata": {},
   "source": [
    "## The `TissueSpecificity` class <a id=\"class\"></a>"
   ]
  },
  {
   "cell_type": "markdown",
   "metadata": {},
   "source": [
    "The usage of the `tspex` module is centered on the creation and the analysis of `TissueSpecificity` objects. In order to create these objects, two parameters are required: (1) a `pandas` DataFrame containing gene expression data and (2) a tissue-specificity metric."
   ]
  },
  {
   "cell_type": "code",
   "execution_count": 7,
   "metadata": {},
   "outputs": [
    {
     "name": "stdout",
     "output_type": "stream",
     "text": [
      "\n",
      "    Create an object of the TissueSpecificity class.\n",
      "\n",
      "    Parameters\n",
      "    ----------\n",
      "    expression_data : pandas.core.frame.DataFrame\n",
      "        Pandas DataFrame containing the expression matrix, with rows\n",
      "        corresponding to genes and columns to tissues/conditions.\n",
      "    method : str\n",
      "        A string representing which tissue-expression metric should be\n",
      "        calculated. One of: 'counts', 'tsi', 'tau', 'gini', 'simpson',\n",
      "        'shannon_specificity', 'roku_specificity', 'zscore', 'spm', 'spm_dpm',\n",
      "        'js_specificity', 'js_specificity_dpm'.\n",
      "    log : bool, default False\n",
      "        Log-transform the expression matrix before computing tissue-specificity\n",
      "        by taking the base-2 logarithm of one plus the expression values. By\n",
      "        default, no transformation is performed.\n",
      "    transform : bool, default True\n",
      "        Transform the tissue-specificity values so that they range from 0\n",
      "        (perfectly ubiquitous) to 1 (perfectly tissue-specific). By default, the\n",
      "        value is transformed. The following metrics are affected by changes this\n",
      "        parameter: 'gini', 'simpson', 'shannon_specificity', 'roku_specificity',\n",
      "        'zscore'.\n",
      "    threshold : int or float, default 0\n",
      "        Value above which the gene is considered to be expressed. By default,\n",
      "        any positive expression value is considered. Only the 'counts' metric\n",
      "        is affected by changes in this parameter.\n",
      "\n",
      "    Attributes\n",
      "    ----------\n",
      "    expression_data : pandas.DataFrame\n",
      "        Expression matrix used to compute the tissue-specificity values. If the\n",
      "        log parameter was set to True, the values will be log-transformed.\n",
      "    tissue_specificity : pandas.Series or pandas.DataFrame\n",
      "        Tissue-specificity values computed from the input expression matrix.\n",
      "    \n"
     ]
    }
   ],
   "source": [
    "print(tspex.TissueSpecificity.__doc__)"
   ]
  },
  {
   "cell_type": "markdown",
   "metadata": {},
   "source": [
    "The nonobligatory parameters (`log`, `transform` and `threshold`) and the object attributes (`expression_data` and `tissue_specificity`) will be explained throughout the tutorial."
   ]
  },
  {
   "cell_type": "markdown",
   "metadata": {},
   "source": [
    "## Tissue-specificity metrics <a id=\"metrics\"></a>"
   ]
  },
  {
   "cell_type": "markdown",
   "metadata": {},
   "source": [
    "`tspex` provides twelve different tissue-specificity metrics that can be divided into two groups:\n",
    " - **Summarizing metrics:** Describes how tissue-specific or ubiquitous is a gene across all the tissues in a single number (`counts`, `tsi`, `tau`, `gini`, `simpson`, `shannon_specificity`, `roku_specificity`, `spm_dpm` and `js_specificity_dpm`).\n",
    " - **Partitioned metrics:** Quantifies how specific is the expression of each gene to each tissue (`zscore`, `spm` and `js_specificity`)."
   ]
  },
  {
   "cell_type": "markdown",
   "metadata": {},
   "source": [
    "## Example 1 (summarizing metric) <a id=\"example1\"></a>"
   ]
  },
  {
   "cell_type": "markdown",
   "metadata": {},
   "source": [
    "In this example, we are going to quantify tissue-specificity using the Tau metric, which will give us a single value per gene.\n",
    "\n",
    "When creating a `TissueSpecificity` object, you can choose to log-transform the expression values before quantifying tissue-specificity."
   ]
  },
  {
   "cell_type": "code",
   "execution_count": 8,
   "metadata": {},
   "outputs": [],
   "source": [
    "tso = tspex.TissueSpecificity(expression_data, 'tau', log=True)"
   ]
  },
  {
   "cell_type": "markdown",
   "metadata": {},
   "source": [
    "The log-transformed expression matrix is stored in the `expression_data` attribute, which is a regular `pandas` DataFrame."
   ]
  },
  {
   "cell_type": "code",
   "execution_count": 9,
   "metadata": {},
   "outputs": [
    {
     "data": {
      "text/html": [
       "<div>\n",
       "<style scoped>\n",
       "    .dataframe tbody tr th:only-of-type {\n",
       "        vertical-align: middle;\n",
       "    }\n",
       "\n",
       "    .dataframe tbody tr th {\n",
       "        vertical-align: top;\n",
       "    }\n",
       "\n",
       "    .dataframe thead th {\n",
       "        text-align: right;\n",
       "    }\n",
       "</style>\n",
       "<table border=\"1\" class=\"dataframe\">\n",
       "  <thead>\n",
       "    <tr style=\"text-align: right;\">\n",
       "      <th></th>\n",
       "      <th>Bladder</th>\n",
       "      <th>Liver</th>\n",
       "      <th>Lung</th>\n",
       "      <th>Pancreas</th>\n",
       "      <th>Stomach</th>\n",
       "    </tr>\n",
       "    <tr>\n",
       "      <th>gene_id</th>\n",
       "      <th></th>\n",
       "      <th></th>\n",
       "      <th></th>\n",
       "      <th></th>\n",
       "      <th></th>\n",
       "    </tr>\n",
       "  </thead>\n",
       "  <tbody>\n",
       "    <tr>\n",
       "      <th>ENSG00000223972.4</th>\n",
       "      <td>0.057117</td>\n",
       "      <td>0.060709</td>\n",
       "      <td>0.064429</td>\n",
       "      <td>0.026890</td>\n",
       "      <td>0.061937</td>\n",
       "    </tr>\n",
       "    <tr>\n",
       "      <th>ENSG00000227232.4</th>\n",
       "      <td>2.723924</td>\n",
       "      <td>1.857235</td>\n",
       "      <td>2.686486</td>\n",
       "      <td>1.879923</td>\n",
       "      <td>2.336262</td>\n",
       "    </tr>\n",
       "    <tr>\n",
       "      <th>ENSG00000243485.2</th>\n",
       "      <td>0.059184</td>\n",
       "      <td>0.079883</td>\n",
       "      <td>0.060305</td>\n",
       "      <td>0.033488</td>\n",
       "      <td>0.075641</td>\n",
       "    </tr>\n",
       "    <tr>\n",
       "      <th>ENSG00000237613.2</th>\n",
       "      <td>0.040307</td>\n",
       "      <td>0.032990</td>\n",
       "      <td>0.037199</td>\n",
       "      <td>0.022656</td>\n",
       "      <td>0.042868</td>\n",
       "    </tr>\n",
       "    <tr>\n",
       "      <th>ENSG00000268020.2</th>\n",
       "      <td>0.000000</td>\n",
       "      <td>0.029161</td>\n",
       "      <td>0.000000</td>\n",
       "      <td>0.000000</td>\n",
       "      <td>0.000000</td>\n",
       "    </tr>\n",
       "  </tbody>\n",
       "</table>\n",
       "</div>"
      ],
      "text/plain": [
       "                    Bladder     Liver      Lung  Pancreas   Stomach\n",
       "gene_id                                                            \n",
       "ENSG00000223972.4  0.057117  0.060709  0.064429  0.026890  0.061937\n",
       "ENSG00000227232.4  2.723924  1.857235  2.686486  1.879923  2.336262\n",
       "ENSG00000243485.2  0.059184  0.079883  0.060305  0.033488  0.075641\n",
       "ENSG00000237613.2  0.040307  0.032990  0.037199  0.022656  0.042868\n",
       "ENSG00000268020.2  0.000000  0.029161  0.000000  0.000000  0.000000"
      ]
     },
     "execution_count": 9,
     "metadata": {},
     "output_type": "execute_result"
    }
   ],
   "source": [
    "tso.expression_data.head()"
   ]
  },
  {
   "cell_type": "markdown",
   "metadata": {},
   "source": [
    "The computed tissue-specificity values are stored in the `tissue_specificity` attribute that, in this case, is a one-dimensional `pandas` Series."
   ]
  },
  {
   "cell_type": "code",
   "execution_count": 10,
   "metadata": {},
   "outputs": [
    {
     "data": {
      "text/plain": [
       "gene_id\n",
       "ENSG00000223972.4    0.1981\n",
       "ENSG00000227232.4    0.1960\n",
       "ENSG00000243485.2    0.2845\n",
       "ENSG00000237613.2    0.2235\n",
       "ENSG00000268020.2    1.0000\n",
       "dtype: float64"
      ]
     },
     "execution_count": 10,
     "metadata": {},
     "output_type": "execute_result"
    }
   ],
   "source": [
    "tso.tissue_specificity.head()"
   ]
  },
  {
   "cell_type": "markdown",
   "metadata": {},
   "source": [
    "Any of the Series' methods can be used to inspect `tissue_specificity`."
   ]
  },
  {
   "cell_type": "code",
   "execution_count": 11,
   "metadata": {},
   "outputs": [
    {
     "data": {
      "text/plain": [
       "0.50    0.1916\n",
       "0.75    0.5593\n",
       "0.95    1.0000\n",
       "dtype: float64"
      ]
     },
     "execution_count": 11,
     "metadata": {},
     "output_type": "execute_result"
    }
   ],
   "source": [
    "tso.tissue_specificity.quantile([0.5, 0.75, 0.95])"
   ]
  },
  {
   "cell_type": "markdown",
   "metadata": {},
   "source": [
    "Two graphing methods: `plot_histogram` and `plot_heatmap`."
   ]
  },
  {
   "cell_type": "markdown",
   "metadata": {},
   "source": [
    "`plot_histogram` can be used to verify the distribution of the tissue-specificity values."
   ]
  },
  {
   "cell_type": "code",
   "execution_count": 12,
   "metadata": {},
   "outputs": [
    {
     "data": {
      "image/png": "[encoded data removed]",
      "text/plain": [
       "<Figure size 450x300 with 1 Axes>"
      ]
     },
     "metadata": {},
     "output_type": "display_data"
    }
   ],
   "source": [
    "tso.plot_histogram()"
   ]
  },
  {
   "cell_type": "markdown",
   "metadata": {},
   "source": [
    "Whereas `plot_heatmap` may be used to visualize the amount of genes that are specific for each tissue."
   ]
  },
  {
   "cell_type": "code",
   "execution_count": 13,
   "metadata": {},
   "outputs": [
    {
     "data": {
      "image/png": "[encoded data removed]",
      "text/plain": [
       "<Figure size 450x300 with 2 Axes>"
      ]
     },
     "metadata": {
      "needs_background": "light"
     },
     "output_type": "display_data"
    }
   ],
   "source": [
    "tso.plot_heatmap(threshold=0.8, sort_genes=True, use_zscore=True, gene_names=False)"
   ]
  },
  {
   "cell_type": "markdown",
   "metadata": {},
   "source": [
    "## Example 2 (partitioned metric) <a id=\"example2\"></a>"
   ]
  },
  {
   "cell_type": "code",
   "execution_count": null,
   "metadata": {},
   "outputs": [],
   "source": [
    "tso = tspex.TissueSpecificity(expression_data, 'spm', log=True)"
   ]
  },
  {
   "cell_type": "markdown",
   "metadata": {},
   "source": [
    "As the SPM metric computes how specific each gene is in each tissue, the `tissue_specificity` is a two-dimensional `pandas` DataFrame."
   ]
  },
  {
   "cell_type": "code",
   "execution_count": null,
   "metadata": {},
   "outputs": [],
   "source": [
    "tso.tissue_specificity.head()"
   ]
  },
  {
   "cell_type": "markdown",
   "metadata": {},
   "source": [
    "To inspect the distribution of the tissue-specificity values separately for each tissue, the `violinplot` function from the `seaborn` package can be used."
   ]
  },
  {
   "cell_type": "code",
   "execution_count": null,
   "metadata": {},
   "outputs": [],
   "source": [
    "sns.violinplot(x=\"variable\", y=\"value\", inner=None, scale=\"count\", color='C0',\n",
    "               data=tso.tissue_specificity.melt());"
   ]
  },
  {
   "cell_type": "markdown",
   "metadata": {},
   "source": [
    "The `query` method can be used to select genes that satisfy certain criteria. In this case, we are selecting genes that are preferentially expressed in the bladder and lung."
   ]
  },
  {
   "cell_type": "code",
   "execution_count": null,
   "metadata": {},
   "outputs": [],
   "source": [
    "selected_genes_specificity = tso.tissue_specificity.query('Bladder >= 0.6 & Lung >= 0.6')\n",
    "selected_genes_specificity.shape"
   ]
  },
  {
   "cell_type": "code",
   "execution_count": null,
   "metadata": {},
   "outputs": [],
   "source": [
    "selected_genes_expression = tso.expression_data.reindex(selected_genes_specificity.index)\n",
    "selected_genes_specificity.head()"
   ]
  },
  {
   "cell_type": "code",
   "execution_count": null,
   "metadata": {},
   "outputs": [],
   "source": [
    "sns.clustermap(selected_genes_expression, figsize=(6,6), z_score=0);"
   ]
  },
  {
   "cell_type": "markdown",
   "metadata": {},
   "source": [
    "## The `transform` parameter <a id=\"transform\"></a>"
   ]
  },
  {
   "cell_type": "markdown",
   "metadata": {},
   "source": [
    "When a `TissueSpecificity` object is created, the computed tissue-specificity values are transformed so that they fall within 0 (perfectly ubiquitous expression) and 1 (perfectly tissue-specific expression). If the user wants to obtain the untransformed values given by the chosen tissue-specificity metric, he can set the `transform` argument to `False`. The following metrics are affected by changes this parameter: `gini`, `simpson`, `shannon_specificity`, `roku_specificity` and `zscore`."
   ]
  },
  {
   "cell_type": "markdown",
   "metadata": {},
   "source": [
    "For instance, untransformed values obtained with the `roku_specificity` method fall within 0 and log2(number of tissues)."
   ]
  },
  {
   "cell_type": "code",
   "execution_count": 36,
   "metadata": {},
   "outputs": [],
   "source": [
    "tso = tspex.TissueSpecificity(expression_data, 'roku_specificity', log=True)\n",
    "tso.tissue_specificity.max()"
   ]
  },
  {
   "cell_type": "code",
   "execution_count": 38,
   "metadata": {},
   "outputs": [
    {
     "data": {
      "image/png": "[encoded data removed]",
      "text/plain": [
       "<Figure size 450x300 with 1 Axes>"
      ]
     },
     "metadata": {},
     "output_type": "display_data"
    }
   ],
   "source": [
    "tso.plot_histogram()"
   ]
  },
  {
   "cell_type": "code",
   "execution_count": 33,
   "metadata": {},
   "outputs": [
    {
     "data": {
      "image/png": "[encoded data removed]",
      "text/plain": [
       "<Figure size 450x300 with 1 Axes>"
      ]
     },
     "metadata": {},
     "output_type": "display_data"
    }
   ],
   "source": [
    "tso = tspex.TissueSpecificity(expression_data, 'roku_specificity', log=True, transform=False)\n",
    "tso.tissue_specificity.max()"
   ]
  },
  {
   "cell_type": "code",
   "execution_count": null,
   "metadata": {},
   "outputs": [],
   "source": [
    "tso.plot_histogram()"
   ]
  },
  {
   "cell_type": "markdown",
   "metadata": {},
   "source": [
    "## The `threshold` parameter of the `counts` metric <a id=\"threshold\"></a>"
   ]
  },
  {
   "cell_type": "markdown",
   "metadata": {},
   "source": [
    "The `counts` metric quantifies tissue-specificity as the proportion of tissues above a given expression threshold. Consequently, the `threshold` parameter directly influences the results obtained when using this method."
   ]
  },
  {
   "cell_type": "code",
   "execution_count": 43,
   "metadata": {},
   "outputs": [
    {
     "data": {
      "text/plain": [
       "2400"
      ]
     },
     "execution_count": 43,
     "metadata": {},
     "output_type": "execute_result"
    }
   ],
   "source": [
    "tso = tspex.TissueSpecificity(expression_data, 'counts', threshold=5)\n",
    "sum(tso.tissue_specificity >= 0.8)"
   ]
  },
  {
   "cell_type": "code",
   "execution_count": 44,
   "metadata": {},
   "outputs": [
    {
     "data": {
      "image/png": "[encoded data removed]",
      "text/plain": [
       "<Figure size 450x300 with 2 Axes>"
      ]
     },
     "metadata": {
      "needs_background": "light"
     },
     "output_type": "display_data"
    }
   ],
   "source": [
    "tso.plot_heatmap(0.8, sort_genes=True, use_zscore=True, gene_names=False)"
   ]
  },
  {
   "cell_type": "code",
   "execution_count": 45,
   "metadata": {},
   "outputs": [
    {
     "data": {
      "text/plain": [
       "1557"
      ]
     },
     "execution_count": 45,
     "metadata": {},
     "output_type": "execute_result"
    }
   ],
   "source": [
    "tso = tspex.TissueSpecificity(expression_data, 'counts', threshold=50)\n",
    "sum(tso.tissue_specificity >= 0.8)"
   ]
  },
  {
   "cell_type": "code",
   "execution_count": 46,
   "metadata": {},
   "outputs": [
    {
     "data": {
      "image/png": "[encoded data removed]",
      "text/plain": [
       "<Figure size 450x300 with 2 Axes>"
      ]
     },
     "metadata": {
      "needs_background": "light"
     },
     "output_type": "display_data"
    }
   ],
   "source": [
    "tso.plot_heatmap(0.8, sort_genes=True, use_zscore=True, gene_names=False)"
   ]
  }
 ],
 "metadata": {
  "kernelspec": {
   "display_name": "Python [default]",
   "language": "python",
   "name": "python3"
  },
  "language_info": {
   "codemirror_mode": {
    "name": "ipython",
    "version": 3
   },
   "file_extension": ".py",
   "mimetype": "text/x-python",
   "name": "python",
   "nbconvert_exporter": "python",
   "pygments_lexer": "ipython3",
   "version": "3.7.3"
  }
 },
 "nbformat": 4,
 "nbformat_minor": 2
}
